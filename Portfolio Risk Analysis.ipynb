{
 "cells": [
  {
   "cell_type": "markdown",
   "id": "11218bc6-491d-4dce-8d65-a2b0cfe8b4b2",
   "metadata": {},
   "source": [
    "# Portfolio Risk Analysis"
   ]
  },
  {
   "cell_type": "markdown",
   "id": "3fa6dfd7-2451-489e-bc07-6f5c2245f028",
   "metadata": {},
   "source": [
    "The code performs a Risk Analysis on a stock's returns, using three different methods to calculate Value at Risk (VaR) and Expected Shortfall (CVaR). These are common risk metrics used in finance to assess the potential losses in a portfolio or individual asset over a specified time period with a given level of confidence. \n",
    "\n",
    "**The methods used are:**\n",
    "\n",
    "- Parametric (Normal) VaR: Assumes returns follow a normal distribution.\n",
    "- Historical VaR: A non-parametric approach that looks at past returns.\n",
    "- T-distribution VaR: Uses a Student’s t-distribution, which is more robust when data contains outliers or heavy tails.\n",
    "\n",
    "This project demonstrates the value of using multiple methods to assess risk, as each method offers unique insights into potential losses and tail risks. By incorporating both VaR and CVaR, we were able to obtain a more holistic view of Apple’s risk profile, providing investors and risk managers with valuable tools to make more informed decisions in managing portfolio risk."
   ]
  },
  {
   "cell_type": "markdown",
   "id": "6b1ee15f-03ba-450d-b598-3c5238671f81",
   "metadata": {},
   "source": [
    "## Load Data"
   ]
  },
  {
   "cell_type": "code",
   "execution_count": 1,
   "id": "11749348-6ecd-40ed-9eda-c04821aea58a",
   "metadata": {},
   "outputs": [],
   "source": [
    "import pandas as pd\n",
    "import zipfile\n",
    "import matplotlib.pyplot as plt\n",
    "import numpy as np\n",
    "from scipy.stats import norm, t\n",
    "import matplotlib.pyplot as plt"
   ]
  },
  {
   "cell_type": "markdown",
   "id": "ae42efa8-2cce-4809-99b9-37430dfdce30",
   "metadata": {},
   "source": [
    "## Inspecting Data"
   ]
  },
  {
   "cell_type": "code",
   "execution_count": 2,
   "id": "d840b0be-7c0b-4a19-97d1-e2238c441330",
   "metadata": {},
   "outputs": [
    {
     "name": "stdout",
     "output_type": "stream",
     "text": [
      "Sample Data Structure:\n",
      "  Ticker        Date       Open       High        Low      Close  Adj Close  \\\n",
      "0      A  1999-11-18  32.546494  35.765381  28.612303  31.473534  26.794758   \n",
      "1      A  1999-11-19  30.713518  30.758226  28.478184  28.880545  24.587236   \n",
      "2      A  1999-11-22  29.551144  31.473534  28.657009  31.473534  26.794758   \n",
      "3      A  1999-11-23  30.400572  31.205294  28.612303  28.612303  24.358873   \n",
      "4      A  1999-11-24  28.701717  29.998213  28.612303  29.372318  25.005903   \n",
      "\n",
      "     Volume  \n",
      "0  62546380  \n",
      "1  15234146  \n",
      "2   6577870  \n",
      "3   5975611  \n",
      "4   4843231  \n",
      "\n",
      "Metadata:\n",
      "<class 'pandas.core.frame.DataFrame'>\n",
      "RangeIndex: 5964 entries, 0 to 5963\n",
      "Data columns (total 8 columns):\n",
      " #   Column     Non-Null Count  Dtype  \n",
      "---  ------     --------------  -----  \n",
      " 0   Ticker     5964 non-null   object \n",
      " 1   Date       5964 non-null   object \n",
      " 2   Open       5964 non-null   float64\n",
      " 3   High       5964 non-null   float64\n",
      " 4   Low        5964 non-null   float64\n",
      " 5   Close      5964 non-null   float64\n",
      " 6   Adj Close  5964 non-null   float64\n",
      " 7   Volume     5964 non-null   int64  \n",
      "dtypes: float64(5), int64(1), object(2)\n",
      "memory usage: 372.9+ KB\n",
      "None\n",
      "\n",
      "Missing Values:\n",
      "Ticker       0\n",
      "Date         0\n",
      "Open         0\n",
      "High         0\n",
      "Low          0\n",
      "Close        0\n",
      "Adj Close    0\n",
      "Volume       0\n",
      "dtype: int64\n",
      "\n",
      "Missing Values:\n",
      "              Open         High          Low        Close    Adj Close  \\\n",
      "count  5964.000000  5964.000000  5964.000000  5964.000000  5964.000000   \n",
      "mean     47.395558    47.994878    46.788997    47.404786    44.782612   \n",
      "std      38.061525    38.440381    37.637164    38.044148    38.369622   \n",
      "min       7.653791     7.961373     7.510730     7.761087     6.607346   \n",
      "25%      22.314020    22.644850    21.988556    22.301501    19.657610   \n",
      "50%      31.491416    31.918813    31.030043    31.473534    28.291619   \n",
      "75%      63.954999    64.969999    63.098973    64.112501    60.977356   \n",
      "max     179.279999   179.570007   177.169998   179.279999   177.025650   \n",
      "\n",
      "             Volume  \n",
      "count  5.964000e+03  \n",
      "mean   3.408797e+06  \n",
      "std    2.421346e+06  \n",
      "min    2.719000e+05  \n",
      "25%    1.900525e+06  \n",
      "50%    2.904974e+06  \n",
      "75%    4.245481e+06  \n",
      "max    6.254638e+07  \n"
     ]
    }
   ],
   "source": [
    "# Load data from ZIP\n",
    "with zipfile.ZipFile('S&P 500 Stock Data.zip', 'r') as z:\n",
    "    file_list = z.namelist()  # List all files (e.g., ['A.csv', 'AAL.csv', ...])\n",
    "    \n",
    "    # Load first 3 files as samples for inspection\n",
    "    sample_data = {f: pd.read_csv(z.open(f)) for f in file_list[:3]}\n",
    "\n",
    "# Inspect a sample file (e.g., A.csv)\n",
    "print(\"Sample Data Structure:\")\n",
    "print(sample_data['A.csv'].head())\n",
    "print(\"\\nMetadata:\")\n",
    "print(sample_data['A.csv'].info())\n",
    "print(\"\\nMissing Values:\")\n",
    "print(sample_data['A.csv'].isnull().sum())\n",
    "print(\"\\nMissing Values:\")\n",
    "print(sample_data['A.csv'].describe())"
   ]
  },
  {
   "cell_type": "markdown",
   "id": "c895b523-8388-4483-8367-759c29b7bc02",
   "metadata": {},
   "source": [
    "## Data Cleaning\n",
    "\n",
    "This includes:\n",
    "\n",
    "- Date Validation: Ensures the Date column is in datetime format, removing any invalid dates.\n",
    "- Duplicate Handling: Removes rows with duplicate dates for the same ticker, keeping the most recent entry.\n",
    "- Price Validation: Ensures price columns (Open, High, Low, Close, Adjusted Close) are numeric and checks for price consistency (e.g., High should not be lower than Low).\n",
    "- Negative and Zero Prices: Removes rows where any of the price columns contain zero or negative values.\n",
    "- Volume Validation: Ensures that the Volume column is numeric and non-negative.\n",
    "- Date Sorting: Ensures the data is sorted chronologically.\n",
    "- Daily Return Calculation: Adds a Daily_Return column that calculates the daily percentage change in adjusted close prices."
   ]
  },
  {
   "cell_type": "code",
   "execution_count": 3,
   "id": "5d3d0cb8-ab8e-4f25-8dff-038887fad892",
   "metadata": {},
   "outputs": [
    {
     "name": "stdout",
     "output_type": "stream",
     "text": [
      "Cleaned 503 stocks\n",
      "              Open         High          Low        Close    Adj Close  \\\n",
      "count  5964.000000  5964.000000  5964.000000  5964.000000  5964.000000   \n",
      "mean     47.395558    47.994878    46.788997    47.404786    44.782612   \n",
      "min       7.653791     7.961373     7.510730     7.761087     6.607346   \n",
      "25%      22.314020    22.644850    21.988556    22.301501    19.657610   \n",
      "50%      31.491416    31.918813    31.030043    31.473534    28.291619   \n",
      "75%      63.954999    64.969999    63.098973    64.112501    60.977356   \n",
      "max     179.279999   179.570007   177.169998   179.279999   177.025650   \n",
      "std      38.061525    38.440381    37.637164    38.044148    38.369622   \n",
      "\n",
      "             Volume  \n",
      "count  5.964000e+03  \n",
      "mean   3.408797e+06  \n",
      "min    2.719000e+05  \n",
      "25%    1.900525e+06  \n",
      "50%    2.904974e+06  \n",
      "75%    4.245481e+06  \n",
      "max    6.254638e+07  \n",
      "std    2.421346e+06  \n"
     ]
    }
   ],
   "source": [
    "def clean_stock_data(df):\n",
    "    \"\"\"Enhanced cleaning for S&P 500 stock data\"\"\"\n",
    "    \n",
    "    # Convert and validate dates\n",
    "    df['Date'] = pd.to_datetime(df['Date'], errors='coerce')\n",
    "    df = df[df['Date'].notna()]  # Remove rows with invalid dates\n",
    "    \n",
    "    # Handle duplicates (same ticker + date)\n",
    "    df = df.drop_duplicates(subset=['Ticker', 'Date'], keep='last')\n",
    "    \n",
    "    # Validate price columns (OHLC)\n",
    "    price_cols = ['Open', 'High', 'Low', 'Close', 'Adj Close']\n",
    "    df[price_cols] = df[price_cols].apply(pd.to_numeric, errors='coerce')\n",
    "    \n",
    "    # Price consistency checks\n",
    "    df = df[\n",
    "        (df['High'] >= df[['Open', 'Low', 'Close']].max(axis=1)) &\n",
    "        (df['Low'] <= df[['Open', 'High', 'Close']].min(axis=1))\n",
    "    ]\n",
    "    \n",
    "    # Handle zero/negative prices\n",
    "    df = df[(df[price_cols] > 0).all(axis=1)]\n",
    "    \n",
    "    # Volume validation\n",
    "    df['Volume'] = pd.to_numeric(df['Volume'], errors='coerce')\n",
    "    df = df[df['Volume'] >= 0]\n",
    "    \n",
    "    # Sort by date\n",
    "    df = df.sort_values('Date')\n",
    "    \n",
    "    # Calculate returns for later analysis\n",
    "    df['Daily_Return'] = df.groupby('Ticker')['Adj Close'].pct_change()\n",
    "    \n",
    "    return df\n",
    "\n",
    "# Loading and Cleaning All Data\n",
    "\n",
    "cleaned_data = {}\n",
    "with zipfile.ZipFile('S&P 500 Stock Data.zip', 'r') as z:\n",
    "    for file in z.namelist():\n",
    "        ticker = file.split('.')[0]\n",
    "        df = pd.read_csv(z.open(file))\n",
    "        cleaned_data[ticker] = clean_stock_data(df)\n",
    "\n",
    "# Validate cleaning\n",
    "print(f\"Cleaned {len(cleaned_data)} stocks\")\n",
    "aapl_stats = cleaned_data['A'].describe()\n",
    "print(aapl_stats[['Open', 'High', 'Low', 'Close', 'Adj Close', 'Volume']])"
   ]
  },
  {
   "cell_type": "markdown",
   "id": "3b544db7-fc24-43d0-a1d9-ac3a70f050a3",
   "metadata": {},
   "source": [
    "## Calculate the Value at Risk (VaR) "
   ]
  },
  {
   "cell_type": "markdown",
   "id": "3e35b3b9-c395-46dc-9ace-9b277b98dc29",
   "metadata": {},
   "source": [
    "The calculated VaR at the specified confidence level. VaR represents the maximum loss expected with the given probability (e.g., 95% confidence means there's a 5% chance the actual loss will exceed this value)."
   ]
  },
  {
   "cell_type": "code",
   "execution_count": null,
   "id": "881d6846-470a-455a-bd0e-937f52543187",
   "metadata": {},
   "outputs": [],
   "source": [
    "def calculate_var(returns, confidence=0.95, method='parametric'):\n",
    "    \"\"\"\n",
    "    Enhanced VaR calculation with multiple methods\n",
    "    \n",
    "    Parameters:\n",
    "    - returns: Pandas Series of daily returns\n",
    "    - confidence: Confidence level (e.g., 0.95 for 95%)\n",
    "    - method: 'parametric' (normal), 'historical', or 't-dist'\n",
    "    \n",
    "    Returns:\n",
    "    - VaR: Value at Risk at specified confidence level\n",
    "    \"\"\"\n",
    "    returns = returns.dropna()\n",
    "    \n",
    "    if method == 'historical':\n",
    "        # Non-parametric historical method\n",
    "        return -np.percentile(returns, 100 * (1 - confidence))\n",
    "        \n",
    "    elif method == 't-dist':\n",
    "        # Student's t-distribution fitting\n",
    "        df, loc, scale = t.fit(returns)\n",
    "        return -t.ppf(1 - confidence, df, loc, scale)\n",
    "        \n",
    "    else:  # Parametric normal\n",
    "        mean = np.mean(returns)\n",
    "        std = np.std(returns)\n",
    "        return -norm.ppf(1 - confidence, mean, std)"
   ]
  },
  {
   "cell_type": "markdown",
   "id": "552dcd59-862f-4a9e-afee-6a644eb1aa63",
   "metadata": {},
   "source": [
    "This is the main function that performs a comprehensive risk analysis on a stock's returns. It computes the following:\n",
    "\n",
    "- Value at Risk (VaR) using the three methods: Normal (parametric), Historical, and T-distribution.\n",
    "- Conditional Value at Risk (CVaR), also known as Expected Shortfall, which represents the average loss given that the loss has exceeded the VaR threshold.\n",
    "- Annualized Volatility, which gives a sense of how much the stock's price fluctuates on average over a year.\n",
    "\n",
    "This function also generates a histogram of the stock's daily returns, and overlays a normal distribution fit to visualize the comparison between the stock's actual return distribution and the normal distribution assumption. It also marks the calculated VaR values (Normal, Historical) on the plot to show where the losses at the 95% confidence level lie."
   ]
  },
  {
   "cell_type": "code",
   "execution_count": 4,
   "id": "e16a5e65-bc18-4488-81f1-b407a2415f5c",
   "metadata": {},
   "outputs": [
    {
     "data": {
      "image/png": "[encoded data removed]",
      "text/plain": [
       "<Figure size 1200x600 with 1 Axes>"
      ]
     },
     "metadata": {},
     "output_type": "display_data"
    },
    {
     "name": "stdout",
     "output_type": "stream",
     "text": [
      "\n",
      "AAPL Risk Metrics:\n",
      "Normal_VaR_95       : 3.45%\n",
      "Historical_VaR_95   : 2.85%\n",
      "T-Dist_VaR_95       : 2.90%\n",
      "CVaR_95             : 4.70%\n",
      "Annualized_Volatility: 33.81%\n",
      "\n",
      "Key Interpretation:\n",
      "- VaR: Maximum expected loss with 95% confidence\n",
      "- CVaR: Average loss beyond VaR threshold\n",
      "- Compare methods to check normality assumption\n"
     ]
    }
   ],
   "source": [
    "def full_risk_analysis(ticker, data):\n",
    "    \"\"\"Comprehensive risk metrics for a stock\"\"\"\n",
    "    returns = data[ticker]['Adj Close'].pct_change().dropna()\n",
    "    \n",
    "    # Calculate VaR with different methods\n",
    "    var_normal = calculate_var(returns, method='parametric')\n",
    "    var_historical = calculate_var(returns, method='historical')\n",
    "    var_tdist = calculate_var(returns, method='t-dist')\n",
    "    \n",
    "    # Expected Shortfall (CVaR)\n",
    "    threshold = np.percentile(returns, 100 * (1 - 0.95))\n",
    "    cvar = -returns[returns <= threshold].mean()\n",
    "    \n",
    "    # Plot return distribution\n",
    "    plt.figure(figsize=(12, 6))\n",
    "    plt.hist(returns, bins=50, density=True, alpha=0.5, label='Returns')\n",
    "    \n",
    "    # Plot fitted normal curve\n",
    "    x = np.linspace(returns.min(), returns.max(), 100)\n",
    "    plt.plot(x, norm.pdf(x, returns.mean(), returns.std()), \n",
    "             'r-', label='Normal Fit')\n",
    "    \n",
    "    plt.axvline(-var_normal, color='green', linestyle='--', \n",
    "                label=f'Normal VaR (95%): {var_normal:.2%}')\n",
    "    plt.axvline(-var_historical, color='blue', linestyle=':',\n",
    "                label=f'Historical VaR (95%): {var_historical:.2%}')\n",
    "    plt.title(f'{ticker} Risk Analysis')\n",
    "    plt.xlabel('Daily Returns')\n",
    "    plt.ylabel('Density')\n",
    "    plt.legend()\n",
    "    plt.show()\n",
    "    \n",
    "    return {\n",
    "        'Normal_VaR_95': var_normal,\n",
    "        'Historical_VaR_95': var_historical,\n",
    "        'T-Dist_VaR_95': var_tdist,\n",
    "        'CVaR_95': cvar,\n",
    "        'Annualized_Volatility': returns.std() * np.sqrt(252)\n",
    "    }\n",
    "\n",
    "# Example usage\n",
    "aapl_risk = full_risk_analysis('AAP', cleaned_data)\n",
    "print(\"\\nAAPL Risk Metrics:\")\n",
    "for metric, value in aapl_risk.items():\n",
    "    print(f\"{metric:20}: {value:.2%}\")\n",
    "\n",
    "print(\"\\nKey Interpretation:\")\n",
    "print(\"- VaR: Maximum expected loss with 95% confidence\")\n",
    "print(\"- CVaR: Average loss beyond VaR threshold\")\n",
    "print(\"- Compare methods to check normality assumption\")"
   ]
  },
  {
   "cell_type": "markdown",
   "id": "e15e12e0-ebe5-4319-b5ba-e45edaa1bde9",
   "metadata": {},
   "source": [
    "### Summary\n",
    "\n",
    "- Normal VaR (3.45%) suggests the risk of a loss greater than 3.45% is low (5% chance).\n",
    "- Historical VaR (2.85%) suggests actual past data indicates a lower expected loss than the normal distribution assumption.\n",
    "- T-Dist VaR (2.90%) reflects a slightly more extreme but still moderate loss compared to the normal distribution.\n",
    "- CVaR (4.70%) indicates that if the stock suffers a loss worse than 3.45%, the average loss is 4.70%—which is larger than the VaR, highlighting that extreme losses are not just possible but significantly impactful.\n",
    "- Annualized Volatility (33.81%) shows that Apple’s stock is relatively volatile, indicating higher uncertainty about future prices."
   ]
  },
  {
   "cell_type": "markdown",
   "id": "012185fd-20c5-4d1c-b2c3-0c4ea551c10c",
   "metadata": {},
   "source": [
    "## Conclusion\n",
    "\n",
    "In this project, I conducted a Portfolio Risk Analysis for Apple Inc. (AAPL) by applying Value at Risk (VaR) and Expected Shortfall (CVaR) to assess potential downside risks in its stock price. These methods enabled us to understand the range of potential losses and the likelihood of those losses occurring within a specific confidence level.\n",
    "\n",
    "Through the analysis, we applied three different VaR methods:\n",
    "\n",
    "1. Normal VaR: This method assumed that the returns follow a normal distribution and estimated a potential loss of 3.45% with a 95% confidence level.\n",
    "\n",
    "2. Historical VaR: Based on the actual historical returns, it estimated a potential loss of 2.85%, suggesting that real-world data may indicate lower extreme losses than those predicted by the normal distribution.\n",
    "\n",
    "3. T-Distribution VaR: This method accounted for heavier tails in the return distribution, estimating a potential loss of 2.90%, which is in line with the historical method but slightly higher than the normal VaR.\n",
    "\n",
    "Additionally, we calculated the Expected Shortfall (CVaR), which provided insights into the average loss once the VaR threshold is exceeded. The CVaR was estimated at 4.70%, highlighting the severity of potential losses during extreme market conditions beyond the 95% confidence level.\n",
    "\n",
    "Finally, the Annualized Volatility of 33.81% indicated that Apple's stock is relatively volatile, with substantial fluctuations over the course of the year. This insight is critical for risk management and investment decisions, as it highlights the importance of considering volatility when assessing overall risk exposure."
   ]
  },
  {
   "cell_type": "code",
   "execution_count": null,
   "id": "26062e00-0831-4156-b2d4-22560389368a",
   "metadata": {},
   "outputs": [],
   "source": []
  }
 ],
 "metadata": {
  "kernelspec": {
   "display_name": "Python 3 (ipykernel)",
   "language": "python",
   "name": "python3"
  },
  "language_info": {
   "codemirror_mode": {
    "name": "ipython",
    "version": 3
   },
   "file_extension": ".py",
   "mimetype": "text/x-python",
   "name": "python",
   "nbconvert_exporter": "python",
   "pygments_lexer": "ipython3",
   "version": "3.12.3"
  }
 },
 "nbformat": 4,
 "nbformat_minor": 5
}
